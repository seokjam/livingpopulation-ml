{
 "cells": [
  {
   "cell_type": "markdown",
   "id": "boxed-jamaica",
   "metadata": {},
   "source": [
    "# 안녕하세요^^ \n",
    "# AI 모델링 시간에 오신 여러분을 환영합니다.\n",
    "\n",
    "## 오늘은 날씨, 미세먼지, 공휴일 데이터를 활용하여 서울시 <u>생활인구</u>를 예측해 보겠습니다."
   ]
  },
  {
   "cell_type": "markdown",
   "id": "f6174af2",
   "metadata": {},
   "source": [
    "<img src = \"https://images.unsplash.com/photo-1528642474498-1af0c17fd8c3?ixlib=rb-4.0.3&ixid=MnwxMjA3fDB8MHxwaG90by1wYWdlfHx8fGVufDB8fHx8&auto=format&fit=crop&w=2069&q=80\" width=100% align=\"center\"/>\n",
    "\n",
    "<div align=\"right\">Photo by <a href=\"https://unsplash.com/it/@ryoji__iwata?utm_source=unsplash&utm_medium=referral&utm_content=creditCopyText\">Ryoji Iwata</a> on <a href=\"https://unsplash.com/images/people?utm_source=unsplash&utm_medium=referral&utm_content=creditCopyText\">Unsplash</a></div>\n",
    "  "
   ]
  },
  {
   "cell_type": "markdown",
   "id": "6abb384a",
   "metadata": {},
   "source": [
    "---"
   ]
  },
  {
   "cell_type": "markdown",
   "id": "587d060b",
   "metadata": {},
   "source": [
    "# Chapter1. 데이터 수집 및 분석"
   ]
  },
  {
   "cell_type": "markdown",
   "id": "4cd748f7",
   "metadata": {},
   "source": [
    "### **1) 실습 순서**\n",
    "- 환경 준비\n",
    "- 데이터 탐색하기\n",
    "- 데이터 가공하기\n",
    "\n",
    "### **2) 실습 내용**\n",
    "\n",
    "- 실습에 필요한 라이브러리를 불러 옵니다.\n",
    "- 대상 데이터를 읽어와 탐색하며 이해합니다.\n",
    "- 데이터들을 공통의 키 값으로 합칩니다.\n",
    "- 실습에 필요한 컬럼만 남기고 파일로 저장합니다.\n",
    "\n",
    "### **3) 기본 데이터**\n",
    "\n",
    "**① 서울시 종로구의 <u>생활인구</u> 데이터**\n",
    "> - **일자** : 20170101 ~ 20191231 <br>\n",
    "> - **시각** : 0 ~ 23 <br>\n",
    "> - **자치구코드** : 생활 인구를 측정한 자치구 코드(종로구) <br>\n",
    "> - **총생활인구수** : 생활 인구 합계 <br>\n",
    "> - **남0-9세, 남10-14세, 남15-19세, ... , 남65-69세   , 남70세이상** : 남성 연령별 인구 합계\n",
    "> - **여0-9세, 여10-14세, 여15-19세, ... , 여65-69세   , 여70세이상** : 여성 연령별 인구 합계 <br>\n",
    "    *제공정보는 통계적추정방법에 의해 추계되기 때문에 소숫점이하 정보가 존재하며,* <br>\n",
    "    *정보 제공시 소수점 이하를 반올림처리함에 따라 각 속성정보의 합이 생활인구 총량과 일치하지 않을 수 있음.*\n",
    "\n",
    "**② 서울시 <u>종관기상관측(날씨)</u> 데이터** \n",
    "> - **일자** : 20170101 ~ 20191231 <br>\n",
    "> - **시각** : 0 ~ 23 <br>\n",
    "> - **기온(°C)** : 대기의 온도 <br>\n",
    "> - **강수량(mm)** : 어떤 시간 동안 땅에 떨어지는 비나 눈이나 우박 등을 물로 녹여서 잰 물의 깊이(두께) <br>\n",
    "> - **풍속(m/s)** : 단위 시간에 공기가 이동한 거리 <br>\n",
    "> - **풍향(16방위)** : 바람이 불어오는 방향 <br>\n",
    "> - **습도(%)** : 공기의 건조하고 습한 정도<br>\n",
    "> - **일조(hr)** : 실제로 빛이 비친 시간<br>\n",
    "> - **일사(MJ/m2)** : 지표면에 도달한 태양복사에너지<br>\n",
    "> - **적설(cm)** : 지면에 쌓인 눈<br>\n",
    "\n",
    "**③ 서울시 <u>황사관측(미세먼지)</u> 데이터**\n",
    "> - **일자** : 20170101 ~ 20191231 <br>\n",
    "> - **시각** : 0 ~ 23 <br>\n",
    "> - **1시간평균 미세먼지농도(㎍/㎥)** : \n",
    "\n",
    "**④ 한국천문연구원 <u>특일(공휴일)</u> 정보 데이터** \n",
    "> - **일자** : 20170101 ~ 20191231 <br>\n",
    "> - **요일** : 해당 일자의 요일 <br>\n",
    "> - **휴일유무** : Y, N <br> \n",
    "> - **법정공휴일명** : 법정공유일 이름 <br>\n",
    "\n",
    " <font color='red'>*※ 모든 데이터는 2017-2019년 데이터를 기준으로 함.<br>\n",
    "2020~2022년 데이터의 경우 코로나19로 시민들은 외부 이동을 자제하고 주거지에서만 생활하는 시간이 늘어난 부분이 있어,<br>\n",
    "코로나19의 영향력을 확인하는 연구가 아니라면 보통 해당 기간의 데이터들은 제외하고 통계 조사 및 연구를 진행하고 있습니다.*\n",
    "</font>"
   ]
  },
  {
   "cell_type": "markdown",
   "id": "4d745292",
   "metadata": {},
   "source": [
    "---"
   ]
  },
  {
   "cell_type": "markdown",
   "id": "440ae132",
   "metadata": {},
   "source": [
    "## 0. 환경 준비\n",
    "> **① 필요 라이브러리 불러오기** <br>\n",
    "> **② 데이터 불러오기**"
   ]
  },
  {
   "cell_type": "markdown",
   "id": "fbda11bd",
   "metadata": {},
   "source": [
    "### **① 필요한 라이브러리 불러오기**\n",
    "- **pandas** : 데이터를 처리하고 분석하는데 효과적인 패키지\n",
    "- **matplotlib** : 데이터를 차트나 플롯으로 그려주는 시각화 라이브러리 패키지\n",
    "- **seaborn** : matplolib을 기반으로 다양한 색상 테마와 통계용 차트 등의 기능을 추가한 시각화 패키지"
   ]
  },
  {
   "cell_type": "markdown",
   "id": "81b40a82",
   "metadata": {},
   "source": [
    "pandas는 별칭을 pd로, matplotlib은 별칭을 plt로 해서 라이브러리를 불러오세요"
   ]
  },
  {
   "cell_type": "code",
   "execution_count": null,
   "id": "a270cfe0",
   "metadata": {},
   "outputs": [],
   "source": [
    "# 여기에 입력하세요.\n",
    "import pandas as pd\n",
    "import matplotlib.pyplot as plt\n",
    "import warnings\n",
    "\n",
    "warnings.filterwarnings('ignore')"
   ]
  },
  {
   "cell_type": "markdown",
   "id": "9f133434",
   "metadata": {},
   "source": [
    "pip 이용해서 seaborn 설치하고, seaborn 별칭을 sns로 하여 임포트 하세요.\n",
    "- 맨 앞쪽에 **<font color=red>!</font>**를 사용하면 리눅스 명령어를 수행할 수 있습니다.**(!pip install '라이브러리명')**"
   ]
  },
  {
   "cell_type": "code",
   "execution_count": null,
   "id": "ac17fe96",
   "metadata": {
    "scrolled": false
   },
   "outputs": [],
   "source": [
    "# 여기에 입력하세요.\n",
    "!pip install seaborn\n",
    "import seaborn as sns\n",
    "\n",
    "plt.rc('font', family='Malgun Gothic')\n",
    "sns.set(font=\"Malgun Gothic\",#\"NanumGothicCoding\", \n",
    "        rc={\"axes.unicode_minus\":False}, # 마이너스 부호 깨짐 현상 해결\n",
    "        style='darkgrid')"
   ]
  },
  {
   "cell_type": "markdown",
   "id": "1f72c34f",
   "metadata": {},
   "source": [
    "### **② 데이터 불러오기** \n",
    "- pandas 라이브러리의 read_csv 함수를 사용하면 파일을 불러오고 변수에 저장할 수 있습니다.\n",
    "> - **서울시 종로구의 <u>생활인구</u> 데이터** : LOCAL_PEOPLE_GU_2017_2019.csv <br>\n",
    "> - **서울시 <u>종관기상관측(날씨)</u> 데이터** : SURFACE_ASOS_108_HR_2017_2019.csv<br>\n",
    "> - **서울시 <u>황사관측(미세먼지)</u> 데이터** : ENV_YDST_108_HR_2017_2019.csv<br>\n",
    "> - **한국천문연구원 <u>특일(공휴일)</u> 정보 데이터** : ANNIVERSARY_INFO_2017_2019.csv"
   ]
  },
  {
   "cell_type": "markdown",
   "id": "6aa39356",
   "metadata": {},
   "source": [
    "pd.read_csv(\"./data/LOCAL_PEOPLE_GU_2017_2019.csv\")"
   ]
  },
  {
   "cell_type": "code",
   "execution_count": null,
   "id": "c6836b0d",
   "metadata": {
    "scrolled": false
   },
   "outputs": [],
   "source": [
    "pd.read_csv(\"./data/LOCAL_PEOPLE_GU_2017_2019.csv\")"
   ]
  },
  {
   "cell_type": "code",
   "execution_count": null,
   "id": "ff505660",
   "metadata": {},
   "outputs": [],
   "source": [
    "df_local_people = pd.read_csv(\"./data/LOCAL_PEOPLE_GU_2017_2019.csv\")"
   ]
  },
  {
   "cell_type": "code",
   "execution_count": null,
   "id": "23edbe22",
   "metadata": {
    "scrolled": true
   },
   "outputs": [],
   "source": [
    "df_local_people"
   ]
  },
  {
   "cell_type": "markdown",
   "id": "warming-gentleman",
   "metadata": {},
   "source": [
    "## 1. 데이터 탐색하기\n",
    "> **① Sample 데이터 확인하기** <br>\n",
    "> **② 데이터 정보 확인하기** <br>\n",
    "> **③ 통계적 특성 파악하기** <br>\n",
    "> **④ 필요한 컬럼 추출하기** <br>"
   ]
  },
  {
   "cell_type": "markdown",
   "id": "ec8904ff",
   "metadata": {},
   "source": [
    "### **① Sample 데이터 확인하기**\n",
    "- Sample 데이터를 육안으로 확인하여 데이터의 구성과 필요 유무를 확인합니다.\n",
    "- head()와 tail()을 활용하여 Sample 데이터 확인이 가능합니다."
   ]
  },
  {
   "cell_type": "code",
   "execution_count": null,
   "id": "a30607f4",
   "metadata": {
    "scrolled": true
   },
   "outputs": [],
   "source": [
    "df_local_people.head()"
   ]
  },
  {
   "cell_type": "code",
   "execution_count": null,
   "id": "8a877560",
   "metadata": {
    "scrolled": false
   },
   "outputs": [],
   "source": [
    "df_local_people.tail()"
   ]
  },
  {
   "cell_type": "code",
   "execution_count": null,
   "id": "51dadeaf",
   "metadata": {
    "scrolled": false
   },
   "outputs": [],
   "source": [
    "df_local_people.head(24)"
   ]
  },
  {
   "cell_type": "markdown",
   "id": "67509fc7",
   "metadata": {},
   "source": [
    "### **② 데이터 정보 확인하기**\n",
    "- 컬럼 수, 데이터 타입 등 불러온 데이터의 정보를 확인합니다.\n",
    "- info() 함수는 데이터 구성과 특성을 확인해 볼 수 있습니다."
   ]
  },
  {
   "cell_type": "code",
   "execution_count": null,
   "id": "1abcc5b9",
   "metadata": {},
   "outputs": [],
   "source": [
    "df_local_people.info()"
   ]
  },
  {
   "cell_type": "markdown",
   "id": "3635d256",
   "metadata": {},
   "source": [
    "### **③ 통계적 특성 파악하기**\n",
    "- 수치 데이터 특성에 따른 데이터의 분포를 확인합니다.\n",
    "- describe() 함수를 통해 수학적 통계를 확인해 보는 작업을 해봅시다.\n",
    "> - 컬럼별 개수(count)\n",
    "> - 데이터의 평균값(mean)\n",
    "> - 표춘편차(std)\n",
    "> - 최소값(min)\n",
    "> - 4분위수(25%, 50%, 75%)\n",
    "> - 최대값(max)"
   ]
  },
  {
   "cell_type": "code",
   "execution_count": null,
   "id": "4fcccd5a",
   "metadata": {
    "scrolled": true
   },
   "outputs": [],
   "source": [
    "df_local_people.describe()"
   ]
  },
  {
   "cell_type": "markdown",
   "id": "b86feeab",
   "metadata": {},
   "source": [
    "※ 통계적 특성은 시각화를 활용해서도 요약해서 볼 수 있습니다."
   ]
  },
  {
   "cell_type": "code",
   "execution_count": null,
   "id": "8de6fd5a",
   "metadata": {},
   "outputs": [],
   "source": [
    "plt.figure(figsize=(20,4))\n",
    "plt.bar(df_local_people['시각'], df_local_people['총생활인구수'])\n",
    "plt.show()"
   ]
  },
  {
   "cell_type": "markdown",
   "id": "6f53230a",
   "metadata": {},
   "source": [
    "### **④ 필요한 컬럼 추출하기**\n",
    "- 수집한 데이터의 컬럼이 너무 많을 경우 데이터 처리에 불필요한 시간과 자원을 소모하게 됩니다.<br>\n",
    "- 이번 실습에서는 필요한 컬럼만 추출하여 데이터처리를 하도록 하겠습니다.<br>\n",
    "- 실제 분석/모델링에서는 어떤 컬럼이 중요할지 알수 없기 때문에 자원이 가능한 많은 데이터를 가지고 하셔도 좋습니다. <br>"
   ]
  },
  {
   "cell_type": "code",
   "execution_count": null,
   "id": "72e25cb1",
   "metadata": {},
   "outputs": [],
   "source": [
    "df_local_people = df_local_people[['일자', '시각', '총생활인구수']]"
   ]
  },
  {
   "cell_type": "code",
   "execution_count": null,
   "id": "5f553824",
   "metadata": {},
   "outputs": [],
   "source": [
    "df_local_people"
   ]
  },
  {
   "cell_type": "markdown",
   "id": "467da3bf",
   "metadata": {},
   "source": [
    "### <font color=\"red\"> [실습]</font> "
   ]
  },
  {
   "cell_type": "markdown",
   "id": "01fea79d",
   "metadata": {},
   "source": [
    "__<font color=red>[Q]</font>  pandas 라이브러리의 read_csv 함수를 사용하여 나머지 3개의 파일을 불러와서 아래의 변수명으로 데이터프레임을 저장해 주세요.__\n",
    "- [df_weather] : 서울시 종관기상관측(날씨) 데이터(SURFACE_ASOS_108_HR_2017_2019.csv)  <br>\n",
    "- [df_ph10] : 서울시 황사관측(미세먼지) 데이터(ENV_YDST_108_HR_2017_2019.csv)  <br>\n",
    "- [df_anniversary] : 한국천문연구원 특일(공휴일) 정보 데이터(ANNIVERSARY_INFO_2017_2019.csv)  <br>"
   ]
  },
  {
   "cell_type": "code",
   "execution_count": null,
   "id": "f14b1dda",
   "metadata": {},
   "outputs": [],
   "source": [
    "# 여기에 입력하세요.\n",
    "\n",
    "\n",
    "\n"
   ]
  },
  {
   "cell_type": "markdown",
   "id": "f4a087d6",
   "metadata": {},
   "source": [
    "__<font color=red>[Q]</font> 'df_weather', 'df_ph10', 'df_anniversary' 데이터프레임의 Sample 데이터를 아래의 조건들로 검색해 보세요.__\n",
    "- 'df_weather' <u>앞 부분 5줄</u>의 데이터를 검색해보세요.\n",
    "- 'df_ph10' 는 <u>뒤 부분 5줄</u>의 데이터를 검색해보세요.\n",
    "- 'df_anniversary' <u>앞 부분 10줄</u>의 데이터를 검색해보세요."
   ]
  },
  {
   "cell_type": "code",
   "execution_count": null,
   "id": "b9429515",
   "metadata": {
    "scrolled": false
   },
   "outputs": [],
   "source": [
    "# 여기에 입력하세요.\n",
    "\n",
    "\n",
    "\n"
   ]
  },
  {
   "cell_type": "markdown",
   "id": "1bedc7ef",
   "metadata": {},
   "source": [
    "__<font color=red>[Q]</font> 'df_weather', 'df_ph10', 'df_anniversary' 데이터프레임의 데이터정보를 확인해보세요.__"
   ]
  },
  {
   "cell_type": "code",
   "execution_count": null,
   "id": "4228d40c",
   "metadata": {},
   "outputs": [],
   "source": [
    "# 여기에 입력하세요.\n",
    "\n",
    "\n",
    "\n"
   ]
  },
  {
   "cell_type": "markdown",
   "id": "32eae9a1",
   "metadata": {},
   "source": [
    "__<font color=red>[Q]</font> 'df_weather', 'df_ph10' 데이터프레임의 통계적 특성을 확인해보세요.__"
   ]
  },
  {
   "cell_type": "code",
   "execution_count": null,
   "id": "f659c377",
   "metadata": {
    "scrolled": true
   },
   "outputs": [],
   "source": [
    "# 여기에 입력하세요.\n",
    "\n",
    "\n",
    "\n"
   ]
  },
  {
   "cell_type": "markdown",
   "id": "c4dbe789",
   "metadata": {},
   "source": [
    "__<font color=red>[Q]</font> 'df_anniversary' 에서 불필요한 컬럼('법정공휴일명')을 제거해 주세요.__"
   ]
  },
  {
   "cell_type": "code",
   "execution_count": null,
   "id": "3f9b914c",
   "metadata": {},
   "outputs": [],
   "source": [
    "# 여기에 입력하세요.\n",
    "\n",
    "\n",
    "\n"
   ]
  },
  {
   "cell_type": "markdown",
   "id": "6334e1a8",
   "metadata": {},
   "source": [
    "---"
   ]
  },
  {
   "cell_type": "markdown",
   "id": "4c7b27d4",
   "metadata": {},
   "source": [
    "## 2. 데이터 가공하기\n",
    "> **① 데이터 합치기**<br>\n",
    "> **② 데이터 타입 변경하기** <br>"
   ]
  },
  {
   "cell_type": "markdown",
   "id": "166ab9b2",
   "metadata": {},
   "source": [
    "### **① 데이터 합치기** \n",
    "- <font color=\"red\">merge()</font>함수는 두 데이터프레임을 각 데이터에 존재하는 고유값(key)을 기준으로 병합할때 사용합니다.\n",
    "- 옵션의 경우 <font color=\"red\">합치는 방법('how')</font> 와 <font color=\"red\">key 값('on')</font>이 있습니다.\n",
    "- pd.merge(df_left, df_right, how='inner, outer, left, right', on=None)"
   ]
  },
  {
   "cell_type": "markdown",
   "id": "bb75686c",
   "metadata": {},
   "source": [
    "pandas 라이브러리의 merge() 함수를 사용하여 두 데이터프레임 [df_local_people], [df_weather] 를 key 값 (일자), (시각)을 기준으로 병합합니다."
   ]
  },
  {
   "cell_type": "code",
   "execution_count": null,
   "id": "ce9ce3b4",
   "metadata": {},
   "outputs": [],
   "source": [
    "df_merge = pd.merge(df_local_people, df_weather, how='outer', on=['일자', '시각'])"
   ]
  },
  {
   "cell_type": "code",
   "execution_count": null,
   "id": "6ccfc548",
   "metadata": {
    "scrolled": false
   },
   "outputs": [],
   "source": [
    "df_merge = df_merge.sort_values(by=['일자', '시각'])"
   ]
  },
  {
   "cell_type": "code",
   "execution_count": null,
   "id": "5aa4c681",
   "metadata": {},
   "outputs": [],
   "source": [
    "df_merge"
   ]
  },
  {
   "cell_type": "markdown",
   "id": "434f2310",
   "metadata": {},
   "source": [
    "### <font color=\"red\"> [실습]</font> "
   ]
  },
  {
   "cell_type": "markdown",
   "id": "a7bad8de",
   "metadata": {},
   "source": [
    "__<font color=red>[Q]</font> pandas 라이브러리의 merge() 함수를 사용하여 [df_merge] 데이터 프레임과 나머지 2개의 데이터프레임 [df_ph10],[df_anniversary]도 병합하세요.__\n",
    "- 옵션은 how='outer'로 합니다.\n",
    "- [Hint] 데이터프레임 'df_merge'에 순차적으로 merge() 합니다. / 데이터프레임 'df_anniversary'는 (시각) column은 없습니다.  "
   ]
  },
  {
   "cell_type": "code",
   "execution_count": null,
   "id": "ecbecdbd",
   "metadata": {},
   "outputs": [],
   "source": [
    "# 여기에 입력하세요.\n",
    "\n",
    "\n",
    "\n"
   ]
  },
  {
   "cell_type": "markdown",
   "id": "a39cc8b7",
   "metadata": {},
   "source": [
    "### **② 데이터 타입 변경하기** \n",
    "- 데이터를 불러온 후에는 반드시 데이터 타입을 확인해 주세요.<br>\n",
    "- 숫자형 데이터가 문자형으로 지정되어 있거나 <br>\n",
    "- 혹은 그 반대의 경우 원하는 데이터 처리 결과가 도출되지 않을 수 있습니다.<br>"
   ]
  },
  {
   "cell_type": "code",
   "execution_count": null,
   "id": "326431d3",
   "metadata": {
    "scrolled": true
   },
   "outputs": [],
   "source": [
    "df_merge.info()"
   ]
  },
  {
   "cell_type": "markdown",
   "id": "7a7b9eca",
   "metadata": {},
   "source": [
    "#### - 컬럼명 '일자' 의 데이터를 수치형에서 <u>'date' 날짜 타입</u>으로 변경합니다."
   ]
  },
  {
   "cell_type": "code",
   "execution_count": null,
   "id": "6fd4283d",
   "metadata": {},
   "outputs": [],
   "source": [
    "pd.to_datetime(df_merge['일자'])"
   ]
  },
  {
   "cell_type": "code",
   "execution_count": null,
   "id": "3065de27",
   "metadata": {},
   "outputs": [],
   "source": [
    "df_merge['일자'] = pd.to_datetime(df_merge['일자'])"
   ]
  },
  {
   "cell_type": "markdown",
   "id": "a12020ba",
   "metadata": {},
   "source": [
    "####  - <u>'date' 날짜 타입</u>으로 변경한 '일자' 컬럼을 활용하여 연, 월, 일 별로 각각 'year', 'month', 'day' 컬럼을 새로 만들어 줍니다."
   ]
  },
  {
   "cell_type": "code",
   "execution_count": null,
   "id": "23dbe82d",
   "metadata": {},
   "outputs": [],
   "source": [
    "df_merge['Year'] = df_merge['일자'].dt.year\n",
    "df_merge['Month'] = df_merge['일자'].dt.month\n",
    "df_merge['Day'] = df_merge['일자'].dt.day"
   ]
  },
  {
   "cell_type": "code",
   "execution_count": null,
   "id": "0e954160",
   "metadata": {},
   "outputs": [],
   "source": [
    "df_merge.columns"
   ]
  },
  {
   "cell_type": "code",
   "execution_count": null,
   "id": "5b5091d2",
   "metadata": {
    "scrolled": false
   },
   "outputs": [],
   "source": [
    "df_merge = df_merge[['일자','Year', 'Month', 'Day', '요일',\n",
    "       '휴일', '시각', '총생활인구수', '기온(°C)', '강수량(mm)', '풍속(m/s)', '풍향(16방위)',\n",
    "       '습도(%)', '일조(hr)', '일사(MJ/m2)', '적설(cm)', '1시간평균 미세먼지농도(㎍/㎥)']]"
   ]
  },
  {
   "cell_type": "code",
   "execution_count": null,
   "id": "467b5ff7",
   "metadata": {},
   "outputs": [],
   "source": [
    "df_merge"
   ]
  },
  {
   "cell_type": "markdown",
   "id": "8b4f8dea",
   "metadata": {},
   "source": [
    "#### - 다음 실습을 위해 가공이 완료된 데이터 'df_merge' 를 저장합니다.\n",
    "- pandas의 to_csv 메소드를 사용하면 파일 저장할 수 있습니다. \n",
    "- [참고] 컬럼명에 한글이 있을 경우 저장 시 encoding 옵션을 'utf-8-sig'로 지정하여야 한글 깨짐을 방지할 수 있습니다."
   ]
  },
  {
   "cell_type": "code",
   "execution_count": null,
   "id": "d1152995",
   "metadata": {},
   "outputs": [],
   "source": [
    "df_merge.to_csv(\"./data/MERGE_LOCAL_PEOPLE_2017_2019.csv\", encoding='utf-8-sig', index=False)"
   ]
  },
  {
   "cell_type": "markdown",
   "id": "73396b42",
   "metadata": {},
   "source": [
    "---"
   ]
  }
 ],
 "metadata": {
  "kernelspec": {
   "display_name": "Python 3 (ipykernel)",
   "language": "python",
   "name": "python3"
  },
  "language_info": {
   "codemirror_mode": {
    "name": "ipython",
    "version": 3
   },
   "file_extension": ".py",
   "mimetype": "text/x-python",
   "name": "python",
   "nbconvert_exporter": "python",
   "pygments_lexer": "ipython3",
   "version": "3.9.13"
  },
  "vscode": {
   "interpreter": {
    "hash": "f08154012ddadd8e950e6e9e035c7a7b32c136e7647e9b7c77e02eb723a8bedb"
   }
  }
 },
 "nbformat": 4,
 "nbformat_minor": 5
}
