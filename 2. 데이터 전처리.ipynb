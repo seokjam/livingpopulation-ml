{
 "cells": [
  {
   "cell_type": "markdown",
   "id": "55add5c1",
   "metadata": {},
   "source": [
    "# 안녕하세요^^ \n",
    "# AI 모델링 시간에 오신 여러분을 환영합니다.\n",
    "\n",
    "## 오늘은 날씨, 미세먼지, 공휴일 데이터를 활용하여 서울시 <u>생활인구</u>를 예측해 보겠습니다."
   ]
  },
  {
   "cell_type": "markdown",
   "id": "68fe315e",
   "metadata": {},
   "source": [
    "<img src = \"https://images.unsplash.com/photo-1652617394258-2dd4747f1d62?ixlib=rb-4.0.3&ixid=MnwxMjA3fDB8MHxwaG90by1wYWdlfHx8fGVufDB8fHx8&auto=format&fit=crop&w=2070&q=80\" width=100% align=\"center\"/>\n",
    "\n",
    "<div align=\"right\">Photo by <a href=\"https://unsplash.com/@beyond_the_dream?utm_source=unsplash&utm_medium=referral&utm_content=creditCopyText\">Yena Kwon</a> on <a href=\"https://unsplash.com/photos/iRKi6ciP3NQ?utm_source=unsplash&utm_medium=referral&utm_content=creditCopyText\">Unsplash</a></div>\n",
    "  "
   ]
  },
  {
   "cell_type": "markdown",
   "id": "84008ade",
   "metadata": {},
   "source": [
    "---"
   ]
  },
  {
   "cell_type": "markdown",
   "id": "7a5a6bf3",
   "metadata": {},
   "source": [
    "# Chapter2. 데이터 전처리\n",
    "### **1) 실습 순서**\n",
    "- 환경 준비\n",
    "- 결측치 처리하기\n",
    "- 이상치 처리하기\n",
    "- 범주형 변수 가변수화하기(원-핫 인코딩)\n",
    "- 데이터 정규화하기 (MinMaxScaler)\n",
    "\n",
    "### **2) 실습 내용**\n",
    "\n",
    "- 대상 데이터를 읽어와 탐색하며 이해합니다.\n",
    "- 결측치를 확인하고 처리합니다.\n",
    "- 시각화 등을 통해 이상치를 확인하고 처리합니다.\n",
    "- 범주형 변수를 구분하고 Pandas 라이브러리의 get_dummies() 함수를 활용하여 가변수화를 진행합니다."
   ]
  },
  {
   "cell_type": "markdown",
   "id": "62aca9d4",
   "metadata": {},
   "source": [
    "---"
   ]
  },
  {
   "cell_type": "markdown",
   "id": "71e23e83",
   "metadata": {},
   "source": [
    "## 0. 환경 준비\n",
    "> **① 필요 라이브러리 불러오기** <br>\n",
    "> **② 데이터 불러오기**"
   ]
  },
  {
   "cell_type": "markdown",
   "id": "436491d1",
   "metadata": {},
   "source": [
    "### **① 필요한 라이브러리 불러오기**\n",
    "- **pandas** : 데이터를 처리하고 분석하는데 효과적인 패키지\n",
    "- **matplotlib** : 데이터를 차트나 플롯으로 그려주는 시각화 라이브러리 패키지\n",
    "- **seaborn** : matplolib을 기반으로 다양한 색상 테마와 통계용 차트 등의 기능을 추가한 시각화 패키지\n",
    "- **sklearn** : 파이썬에서 머신러닝 분석을 할 때 유용하게 사용할 수 있는 라이브러리"
   ]
  },
  {
   "cell_type": "code",
   "execution_count": null,
   "id": "innocent-token",
   "metadata": {},
   "outputs": [],
   "source": [
    "# 여기에 입력하세요.\n",
    "import pandas as pd\n",
    "import matplotlib.pyplot as plt\n",
    "import seaborn as sns\n",
    "import warnings\n",
    "\n",
    "warnings.filterwarnings('ignore')\n",
    "\n",
    "plt.rc('font', family='Malgun Gothic')\n",
    "sns.set(font=\"Malgun Gothic\",#\"NanumGothicCoding\", \n",
    "        rc={\"axes.unicode_minus\":False}, # 마이너스 부호 깨짐 현상 해결\n",
    "        style='darkgrid')\n"
   ]
  },
  {
   "cell_type": "markdown",
   "id": "502e1a2b",
   "metadata": {},
   "source": [
    "### **② 데이터 불러오기** "
   ]
  },
  {
   "cell_type": "code",
   "execution_count": null,
   "id": "5106ea85",
   "metadata": {
    "scrolled": false
   },
   "outputs": [],
   "source": [
    "# 아래에 실습코드를 작성하고 결과를 확인합니다.\n",
    "df = pd.read_csv(\"./data/MERGE_LOCAL_PEOPLE_2017_2019.csv\")\n",
    "df.head()"
   ]
  },
  {
   "cell_type": "markdown",
   "id": "polished-myrtle",
   "metadata": {},
   "source": [
    "---"
   ]
  },
  {
   "cell_type": "markdown",
   "id": "palestinian-catalog",
   "metadata": {},
   "source": [
    "## 1. 결측치 처리하기\n",
    "> **① 결측치 확인하기** <br>\n",
    "> **② 결측치 제거하기** <br>\n",
    "> **③ 결측치 채우기**"
   ]
  },
  {
   "cell_type": "markdown",
   "id": "3acbd46f",
   "metadata": {},
   "source": [
    "### **① 결측치 확인하기**\n",
    "- 결측치 행 확인하기\n",
    "- 결측치 개수 확인하기\n",
    "\n",
    "\n",
    "\n",
    "\n",
    "\n",
    "\n"
   ]
  },
  {
   "cell_type": "code",
   "execution_count": null,
   "id": "295aaec5",
   "metadata": {
    "scrolled": false
   },
   "outputs": [],
   "source": [
    "# 아래에 실습코드를 작성하고 결과를 확인합니다.\n",
    "df.isnull()"
   ]
  },
  {
   "cell_type": "code",
   "execution_count": null,
   "id": "ad2a207e",
   "metadata": {
    "scrolled": true
   },
   "outputs": [],
   "source": [
    "# 아래에 실습코드를 작성하고 결과를 확인합니다.\n",
    "df.isnull().sum()"
   ]
  },
  {
   "cell_type": "code",
   "execution_count": null,
   "id": "c284db9a",
   "metadata": {
    "scrolled": true
   },
   "outputs": [],
   "source": [
    "df[df['총생활인구수'].isnull()==True]"
   ]
  },
  {
   "cell_type": "markdown",
   "id": "0caa466f",
   "metadata": {},
   "source": [
    "### <font color=\"red\"> !! [주의] 결측치 처리 시 주의사항 !! </font>\n",
    "- 데이터 결측치 처리 시 반드시 원본 데이터를 복사해서 사용하여 원본 데이터의 손실을 예방합니다.\n",
    "- <u>파이썬에서 Copy 메소드를 사용하지 않으면 주소값을 복사해서 사용기 때문에 원본 값을 변경 시키게 됩니다.</u>  \n",
    "따라서 원본 항목을 보전하면서 데이터를 보정하려면 copy() 메소드를 사용하여 백업해두는 것이 필요합니다."
   ]
  },
  {
   "cell_type": "code",
   "execution_count": null,
   "id": "0404c557",
   "metadata": {
    "scrolled": true
   },
   "outputs": [],
   "source": [
    "# df Data 복사\n",
    "df_copy = df.copy()\n",
    "df_copy.head()"
   ]
  },
  {
   "cell_type": "code",
   "execution_count": null,
   "id": "ec5943c1",
   "metadata": {
    "scrolled": false
   },
   "outputs": [],
   "source": [
    "df_nocopy=df\n",
    "df_nocopy.head()"
   ]
  },
  {
   "cell_type": "code",
   "execution_count": null,
   "id": "8a545cf7",
   "metadata": {},
   "outputs": [],
   "source": [
    "df_nocopy['Month']=0\n",
    "df_nocopy.head()"
   ]
  },
  {
   "cell_type": "code",
   "execution_count": null,
   "id": "f36db869",
   "metadata": {
    "scrolled": false
   },
   "outputs": [],
   "source": [
    "df.head()"
   ]
  },
  {
   "cell_type": "code",
   "execution_count": null,
   "id": "b995f0da",
   "metadata": {
    "scrolled": false
   },
   "outputs": [],
   "source": [
    "df_copy.head()"
   ]
  },
  {
   "cell_type": "code",
   "execution_count": null,
   "id": "bb09fb35",
   "metadata": {},
   "outputs": [],
   "source": [
    "df = df_copy.copy()"
   ]
  },
  {
   "cell_type": "markdown",
   "id": "7c5f9059",
   "metadata": {},
   "source": [
    "###  ② 결측치 제거하기\n",
    "\n",
    "> - 임계치를 설정해서 제거하기\n",
    "> - 특정 열에 있는 결측치만 참고하여 결측치 제거하기"
   ]
  },
  {
   "cell_type": "markdown",
   "id": "222b9516",
   "metadata": {},
   "source": [
    "- __임계치를 설정해서 제거하기__<br>\n",
    "결측치의 개수에 따라 결측데이터를 판단하고자 한다면, thresh 파라미터를 사용하면 됩니다.<br>\n",
    "예를들어, tresh값이 3이라면 결측값이 아닌 값이 3개 미만일 경우에만 dropna메서드를 수행합니다."
   ]
  },
  {
   "cell_type": "code",
   "execution_count": null,
   "id": "d619a2e9",
   "metadata": {
    "scrolled": true
   },
   "outputs": [],
   "source": [
    "df = df_copy.copy()\n",
    "df=df.dropna(thresh=10)\n",
    "df.isnull().sum()"
   ]
  },
  {
   "cell_type": "code",
   "execution_count": null,
   "id": "ccf2f24e",
   "metadata": {
    "scrolled": true
   },
   "outputs": [],
   "source": [
    "df.head()"
   ]
  },
  {
   "cell_type": "markdown",
   "id": "6f0a9222",
   "metadata": {},
   "source": [
    "- __특정 열에 있는 결측치만 참고하여 결측치를 제거__<br>\n",
    "subset 파라미터를 사용하면 됩니다.<br>"
   ]
  },
  {
   "cell_type": "code",
   "execution_count": null,
   "id": "78e46aec",
   "metadata": {
    "scrolled": true
   },
   "outputs": [],
   "source": [
    "df=df.dropna(subset=['총생활인구수'])\n",
    "df.isnull().sum()"
   ]
  },
  {
   "cell_type": "markdown",
   "id": "0a0259db",
   "metadata": {},
   "source": [
    "- __결측치가 많을 경우 해당 열 제거하기__<br>\n",
    "열을 제거할 때 drop() 메서드를 사용합니다. <br>\n",
    "axis 파라미터를 1로 조정하면 해당 열을 삭제할 수 있습니다.<br>"
   ]
  },
  {
   "cell_type": "code",
   "execution_count": null,
   "id": "2519dc72",
   "metadata": {
    "scrolled": false
   },
   "outputs": [],
   "source": [
    "df=df.drop(columns=['강수량(mm)'], axis=1)\n",
    "df.info()"
   ]
  },
  {
   "cell_type": "markdown",
   "id": "e8690514",
   "metadata": {},
   "source": [
    "###  ③ 결측치 채우기\n",
    "\n",
    "> - 단일(특정) 값으로 채우기\n",
    "> - 주변 값으로 채우기"
   ]
  },
  {
   "cell_type": "markdown",
   "id": "b195062e",
   "metadata": {},
   "source": [
    "- __특정 값으로 채우기__<br>\n",
    "사용자가 지정하는 특정 값으로 채워서 결측치를 처리할 수 있습니다.\n",
    "\n",
    "    #### <font color='blue'>__[참고]__</font>\n",
    "    기상청은 하루 24시간을 3시간 단위로 쪼개, 0시부터 오전 3시까지인 '한밤'을 시작으로 (새벽·아침·늦은 오전·이른 오후·늦은 오후·저녁·늦은 밤)이라고 지칭"
   ]
  },
  {
   "cell_type": "code",
   "execution_count": null,
   "id": "059e75a6",
   "metadata": {
    "scrolled": false
   },
   "outputs": [],
   "source": [
    "df[df['기온(°C)'].isnull() == True]"
   ]
  },
  {
   "cell_type": "code",
   "execution_count": null,
   "id": "08b14dfa",
   "metadata": {},
   "outputs": [],
   "source": [
    "# 늦은 오후 시간 (15~18) 중간값으로 채우기\n",
    "temp_median = df[(df['일자'] == '2018-11-29')&(df['시각']>=15)&(df['시각']<19)]['기온(°C)'].median()"
   ]
  },
  {
   "cell_type": "code",
   "execution_count": null,
   "id": "0f17af99",
   "metadata": {},
   "outputs": [],
   "source": [
    "df['기온(°C)'].fillna(temp_median, inplace=True)"
   ]
  },
  {
   "cell_type": "code",
   "execution_count": null,
   "id": "592c26e4",
   "metadata": {},
   "outputs": [],
   "source": [
    "df[(df['일자'] == '2018-11-29')&(df['시각']>=15)&(df['시각']<19)]"
   ]
  },
  {
   "cell_type": "code",
   "execution_count": null,
   "id": "f45ca211",
   "metadata": {},
   "outputs": [],
   "source": [
    "df['기온(°C)'].isnull().sum()"
   ]
  },
  {
   "cell_type": "markdown",
   "id": "3bbccd31",
   "metadata": {},
   "source": [
    "- __주변값을 활용하여 결측치 채우기__<br>\n",
    "fillna()의 method 파라미터를 사용하면, 사용자가 지정하는 일괄적인 값이 아닌 주변값으로 채울 수 있습니다.<br>\n",
    "> pad, ffill : Nan 값을 앞의 값으로 채운다 <br>\n",
    "> bfill,backfill : Nan 값을 뒤의 값으로 채운다"
   ]
  },
  {
   "cell_type": "code",
   "execution_count": null,
   "id": "d9d252fe",
   "metadata": {
    "scrolled": true
   },
   "outputs": [],
   "source": [
    "df[df['습도(%)'].isnull() == True]['일자'].value_counts()"
   ]
  },
  {
   "cell_type": "code",
   "execution_count": null,
   "id": "145f485d",
   "metadata": {},
   "outputs": [],
   "source": [
    "plt.figure(figsize=(20,4))\n",
    "plt.bar(range(0,24),df[(df['일자'] == '2018-05-28')]['습도(%)'])"
   ]
  },
  {
   "cell_type": "code",
   "execution_count": null,
   "id": "db0cc058",
   "metadata": {
    "scrolled": false
   },
   "outputs": [],
   "source": [
    "# 뒤에 있는 data를 사용해서 결측치를 처리\n",
    "df['습도(%)'].fillna(method='backfill', inplace=True)\n",
    "df[(df['일자'] == '2018-05-28')&(df['시각']>=2)&(df['시각']<10)]"
   ]
  },
  {
   "cell_type": "code",
   "execution_count": null,
   "id": "62b3071a",
   "metadata": {
    "scrolled": true
   },
   "outputs": [],
   "source": [
    "df['습도(%)'].isnull().sum()"
   ]
  },
  {
   "cell_type": "markdown",
   "id": "f955faca",
   "metadata": {},
   "source": [
    "---"
   ]
  },
  {
   "cell_type": "markdown",
   "id": "16a06c56",
   "metadata": {},
   "source": [
    "### <font color=\"red\"> [실습1]</font> "
   ]
  },
  {
   "cell_type": "markdown",
   "id": "f1300342",
   "metadata": {},
   "source": [
    "__<font color=red>[Q]</font> 데이터프레임 df의 남은 결측치를 확인해 보세요.__\n",
    "- [Hint] 결측치는 isnull() 메서드와 sum() 메서드를 활용하면 개수를 확인할 수 있습니다."
   ]
  },
  {
   "cell_type": "code",
   "execution_count": null,
   "id": "86a711ab",
   "metadata": {
    "scrolled": false
   },
   "outputs": [],
   "source": [
    "# 여기에 입력하세요.\n",
    "\n",
    "\n",
    "\n"
   ]
  },
  {
   "cell_type": "markdown",
   "id": "744ae4e4",
   "metadata": {},
   "source": [
    "__<font color=red>[Q]</font> 데이터프레임 df의 남은 결측치가 10,000개 이상인 경우 해당 컬럼을 삭제해 주세요.__\n",
    "- [Hint] 컬럼은 Drop 메서드에 axis 옵션을 조정하면 삭제할 수 있습니다."
   ]
  },
  {
   "cell_type": "code",
   "execution_count": null,
   "id": "1437fc4e",
   "metadata": {
    "scrolled": true
   },
   "outputs": [],
   "source": [
    "# 여기에 입력하세요.\n",
    "\n",
    "\n",
    "\n"
   ]
  },
  {
   "cell_type": "markdown",
   "id": "55001786",
   "metadata": {},
   "source": [
    "__<font color=red>[Q]</font> 결측치가 100개 이하의 컬럼들은 주변 값(이전 값)으로 채워 주세요.__\n",
    "- [Hint] fillna()에서 method 속성을 조정하세요."
   ]
  },
  {
   "cell_type": "code",
   "execution_count": null,
   "id": "c466e3f8",
   "metadata": {},
   "outputs": [],
   "source": [
    "# 여기에 입력하세요.\n",
    "\n",
    "\n",
    "\n"
   ]
  },
  {
   "cell_type": "markdown",
   "id": "c3df2415",
   "metadata": {},
   "source": [
    "__<font color=red>[Q]</font> 그래도 결측치가 남은 컬럼이 있다면, 해당 컬럼의 값들을 분석하고 주변 값, 특정 값 등 적합한 데이터의 값으로 채워 주거나, 삭제해 주세요.__"
   ]
  },
  {
   "cell_type": "code",
   "execution_count": null,
   "id": "ead8662e",
   "metadata": {},
   "outputs": [],
   "source": [
    "# 여기에 입력하세요.\n",
    "\n",
    "\n",
    "\n"
   ]
  },
  {
   "cell_type": "markdown",
   "id": "9eb8f339",
   "metadata": {},
   "source": [
    "#### - 다음 실습을 위해 결측치 처리가 완료된 데이터 'df' 를 copy() 메서드 사용하여 백업해 둡니다."
   ]
  },
  {
   "cell_type": "code",
   "execution_count": null,
   "id": "956f7cd7",
   "metadata": {},
   "outputs": [],
   "source": [
    "df_copy2 = df.copy()"
   ]
  },
  {
   "cell_type": "markdown",
   "id": "e20a202a",
   "metadata": {},
   "source": [
    "---"
   ]
  },
  {
   "cell_type": "markdown",
   "id": "cf14148a",
   "metadata": {},
   "source": [
    "## 2. 이상치 처리하기\n",
    "> **① 이상치 확인하기** <br>\n",
    "> **② 이상치 제거하기** <br>"
   ]
  },
  {
   "cell_type": "markdown",
   "id": "combined-python",
   "metadata": {},
   "source": [
    "### ① 이상치 확인하기\n",
    "\n",
    "> - describe() 메서드를 사용해서 확인하기\n",
    "> - 차트를 그려서 확인하기"
   ]
  },
  {
   "cell_type": "code",
   "execution_count": null,
   "id": "d21dc730",
   "metadata": {
    "scrolled": false
   },
   "outputs": [],
   "source": [
    "df.describe()"
   ]
  },
  {
   "cell_type": "code",
   "execution_count": null,
   "id": "5719f665",
   "metadata": {
    "scrolled": false
   },
   "outputs": [],
   "source": [
    "df['기온(°C)'].describe()"
   ]
  },
  {
   "cell_type": "markdown",
   "id": "8a7c0b3e",
   "metadata": {},
   "source": [
    "- __차트를 그려서 이상치 확인하기__<br>\n",
    "\n",
    "    이상치는 boxplot을 그려서 확인이 가능합니다.\n",
    "    <img src=\"https://wikidocs.net/images/page/166860/boxplot01.png\n",
    "\" width=\"600\" >\n",
    "    출처. https://wikidocs.net/166860\n",
    "  \n",
    "    #### <font color='blue'>__[참고]__</font>\n",
    "    Q1와 Q3가 거리의 1.5배가 넘어가는 값을 Outlier 라고 합니다.    \n",
    "    이 값들은 이상치로써 일반적으로 제거 또는 변경하여 데이터를 분석,학습 합니다.    \n",
    "    단, 이상치 분석시에는 제거하지 않습니다.    "
   ]
  },
  {
   "cell_type": "code",
   "execution_count": null,
   "id": "de88e130",
   "metadata": {
    "scrolled": true
   },
   "outputs": [],
   "source": [
    "plt.rcParams['font.family'] = 'Malgun Gothic'\n",
    "plt.figure(figsize=(16,6))\n",
    "sns.boxplot(df['풍속(m/s)'])\n",
    "plt.show()"
   ]
  },
  {
   "cell_type": "markdown",
   "id": "f017e72a",
   "metadata": {},
   "source": [
    "### ① 이상치 확인하기\n",
    "\n",
    "> - 범위 내 최소값, 최대값 구하기 (IQE * 1.5) \n",
    "> - outlier 제거하기"
   ]
  },
  {
   "cell_type": "code",
   "execution_count": null,
   "id": "e0f9989c",
   "metadata": {
    "scrolled": true
   },
   "outputs": [],
   "source": [
    "#Q1, Q3 구하기\n",
    "q1 = df['풍속(m/s)'].quantile(0.25)\n",
    "q3 = df['풍속(m/s)'].quantile(0.75)\n",
    "\n",
    "# 1.5 * IQR(Q3 - Q1)\n",
    "iqr = 1.5 * (q3 - q1) \n",
    "\n",
    "# 이상치 제거하기\n",
    "df_data=df[(df['풍속(m/s)'] < (q3 + iqr)) & (df['풍속(m/s)'] > (q1 - iqr))]"
   ]
  },
  {
   "cell_type": "markdown",
   "id": "a8639752",
   "metadata": {},
   "source": [
    "## 2. 범주형 변수 가변수화하기\n",
    "기계 학습의 주요 문제 중 하나는 많은 알고리즘이 범주 형 데이터를 입력값으로 수용하지 않는다는 점인데, 이를 Encoding을 통해 해결 할 수 있습니다. \n",
    "\n",
    "> **① 문자형(Y, N)을 숫자형으로 변하기**<br>\n",
    "> **② One-Hot Encdoing 하기** <br>"
   ]
  },
  {
   "cell_type": "markdown",
   "id": "687e2fe1",
   "metadata": {},
   "source": [
    "#### __① 문자형(Y, N)을 숫자형으로 변하기__\n",
    "<img src=\"https://miro.medium.com/max/640/1*QQe-4476Oy3_dI1vhb3dDg.png\" width=\"400\" ><br>\n",
    "문자형 카테고리를 숫자형 카테고리 값으로 변환합니다."
   ]
  },
  {
   "cell_type": "code",
   "execution_count": null,
   "id": "915532cd",
   "metadata": {},
   "outputs": [],
   "source": [
    "df['휴일'].replace('Y', 1, inplace=True)\n",
    "df['휴일'].replace('N', 0, inplace=True)"
   ]
  },
  {
   "cell_type": "markdown",
   "id": "5307dcfa",
   "metadata": {},
   "source": [
    "### <font color=\"red\"> !! [주의] !! </font>\n",
    "여러 개의 카테고리 값을 가질 경우 일괄적으로 숫자 값으로 변환이 되면서 몇몇 ML 알고리즘에는 이를 적용할 경우 예측 성능이 떨어지는 경우가 발생할 수 있습니다. \n",
    "\n",
    "<font color=\"red\">__숫자로 되어 있어 잘못하면 해당 값이 가중치로 인식하여 값에 왜곡이 생기게 됩니다.__</font><br>\n",
    "이러한 특성 때문에 레이블 인코딩은 선형 회귀에는 적용하지 않습니다."
   ]
  },
  {
   "cell_type": "markdown",
   "id": "fdd33b9d",
   "metadata": {},
   "source": [
    "#### __② One-Hot Encdoing 하기__\n",
    "- pandas 라이브러리 'get_dummies' 메서드 활용<br>\n",
    "<img src=\"https://miro.medium.com/max/720/1*80tflY8LxDFRmkD16u25RQ.png\" width=\"600\" ><br>\n",
    "원-핫 인코딩은 간단히 말해 한 개의 요소는 True, 나머지 요소는 False로 만들어 주는 기법입니다.<br>  \n",
    "행 형태로 돼 있는 피처의 고유 값을 열 형태로 차원을 변환한 뒤, <br>\n",
    "고유 값에 해당하는 칼럼에만 1을 표시하고 나머지 칼럼에는 0을 표시합니다.<br> \n",
    "Pandas의 get_dummies()를 사용하면 간단하게 원-핫 인코딩을 진행할 수 있습니다."
   ]
  },
  {
   "cell_type": "code",
   "execution_count": null,
   "id": "a67fa1e0",
   "metadata": {},
   "outputs": [],
   "source": [
    "df"
   ]
  },
  {
   "cell_type": "code",
   "execution_count": null,
   "id": "11326b6a",
   "metadata": {
    "scrolled": true
   },
   "outputs": [],
   "source": [
    "#pandas에서는 get_dummies함수를 사용하면 쉽게 One-Hot Encording이 가능\n",
    "df = pd.get_dummies(df, columns=['Month', 'Day', '요일'])"
   ]
  },
  {
   "cell_type": "code",
   "execution_count": null,
   "id": "2aaa6704",
   "metadata": {
    "scrolled": false
   },
   "outputs": [],
   "source": [
    "df.head()"
   ]
  },
  {
   "cell_type": "code",
   "execution_count": null,
   "id": "a744e2d3",
   "metadata": {},
   "outputs": [],
   "source": [
    "df.info()"
   ]
  },
  {
   "cell_type": "markdown",
   "id": "6927b73f",
   "metadata": {},
   "source": [
    "####  - 마지막으로 Object 형인 <u>'일자'</u> 컬럼과 학습에 방해가 되는 <u>'Year'</u> 컬럼을 제거하여 필요한 데이터만 남기고 전처리를 완료합니다."
   ]
  },
  {
   "cell_type": "code",
   "execution_count": null,
   "id": "896783d9",
   "metadata": {},
   "outputs": [],
   "source": [
    "df.drop(columns=['일자', 'Year'], inplace=True)"
   ]
  },
  {
   "cell_type": "markdown",
   "id": "1aabad87",
   "metadata": {},
   "source": [
    "#### - 다음 실습을 위해 가공이 완료된 데이터 'df' 를 저장합니다.\n",
    "- pandas의 to_csv 메소드를 사용하면 파일 저장할 수 있습니다. \n",
    "- [참고] 컬럼명에 한글이 있을 경우 저장 시 encoding 옵션을 'utf-8-sig'로 지정하여야 한글 깨짐을 방지할 수 있습니다."
   ]
  },
  {
   "cell_type": "code",
   "execution_count": null,
   "id": "0f50f0bc",
   "metadata": {},
   "outputs": [],
   "source": [
    "df.to_csv(\"./data/PREPROCESSING_LOCAL_PEOPLE_2017_2019.csv\", encoding='utf-8-sig', index=False)"
   ]
  },
  {
   "cell_type": "markdown",
   "id": "b70ee587",
   "metadata": {},
   "source": [
    "---"
   ]
  }
 ],
 "metadata": {
  "kernelspec": {
   "display_name": "Python 3 (ipykernel)",
   "language": "python",
   "name": "python3"
  },
  "language_info": {
   "codemirror_mode": {
    "name": "ipython",
    "version": 3
   },
   "file_extension": ".py",
   "mimetype": "text/x-python",
   "name": "python",
   "nbconvert_exporter": "python",
   "pygments_lexer": "ipython3",
   "version": "3.9.13"
  },
  "vscode": {
   "interpreter": {
    "hash": "f08154012ddadd8e950e6e9e035c7a7b32c136e7647e9b7c77e02eb723a8bedb"
   }
  }
 },
 "nbformat": 4,
 "nbformat_minor": 5
}
